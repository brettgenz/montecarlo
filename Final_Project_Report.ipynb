{
 "cells": [
  {
   "cell_type": "markdown",
   "id": "45762487-d33f-486d-8e38-2cdea04e3528",
   "metadata": {},
   "source": [
    "# Metadata\n",
    "\n",
    "* Title: **Final Project Report**\n",
    "* Class: DS 5100\n",
    "* Date: 2 May 2023\n",
    "* Student Name: Brett Genz\n",
    "* Student Net ID: pah4rw\n",
    "* This URL: https://github.com/brettgenz/montecarlo/blob/b051726b393c3a0c1742cfd18c40cc43397e00dc/Final_Project_Report.ipynb\n",
    "* GitHub Repo URL: https://github.com/brettgenz/montecarlo"
   ]
  },
  {
   "cell_type": "markdown",
   "id": "d32cb273-9a40-4909-a7ce-51f6e4958d3c",
   "metadata": {},
   "source": [
    "# The Monte Carlo Module"
   ]
  },
  {
   "cell_type": "code",
   "execution_count": 5,
   "id": "a0743efc-a785-4b5c-a9e6-b65d4507a67f",
   "metadata": {},
   "outputs": [],
   "source": [
    "import pandas as pd\n",
    "import numpy as np\n",
    "\n",
    "\n",
    "class Die():\n",
    "    \"\"\"\n",
    "    A die has N sides, or \"faces\", and W weights, and can be rolled to select a face.\n",
    "    \n",
    "    Methods:\n",
    "        - roll_die\n",
    "        - change_weight\n",
    "        - show_die\n",
    "    \n",
    "    \"\"\"\n",
    "    \n",
    "    def __init__(self, faces):\n",
    "        \"\"\"\n",
    "        This method takes a list of values that will become the faces on the die. Values in\n",
    "        the list can be characters or integers. The method initializes the weight of each\n",
    "        face as 1. The method saves the faces and weights in a private data frame that can\n",
    "        be used by other methods.\n",
    "        \"\"\"\n",
    "        self.faces = faces # might want to do sort(faces) here\n",
    "        if not isinstance(self.faces, list):\n",
    "            raise ValueError(\"You must input a list of values.\")\n",
    "    \n",
    "        x = [type(x) == str or type(x) == int for x in self.faces]\n",
    "        \n",
    "        if False in x:\n",
    "            raise ValueError(\"All elements of the list must be characters or integers.\")\n",
    "    \n",
    "        self.die_df = pd.DataFrame({\n",
    "            \"faces\": faces,\n",
    "            \"weights\": [1 for x in faces]\n",
    "        })\n",
    "        \n",
    "        self.faces_type_list = list(set([type(x) for x in self.faces]))\n",
    "        \n",
    "    \n",
    "    def change_weights(self, face, new_weight):\n",
    "        \"\"\"\n",
    "        This method updates the weight of a single face of a die. It takes as input an \n",
    "        existing face on a die and a new weight (as a float). For validation, it checks\n",
    "        whether the face exists on the die, and whether the new weight is a float or \n",
    "        can be coerced to a float. The method then finds the index of the face in self.faces,\n",
    "        and sets the weight for the corresponding index in weights to the new weight.\n",
    "        \"\"\"\n",
    "        if face not in self.faces:\n",
    "            raise ValueError(\"The given face does not exist on this die.\")\n",
    "        \n",
    "        if not type(float(new_weight)) == float:\n",
    "            raise ValueError(\"The new weight must be a number.\")\n",
    "        \n",
    "        index = self.die_df.faces.index[self.die_df.faces == face][0]\n",
    "        \n",
    "        self.die_df.weights[index] = new_weight\n",
    "        \n",
    "    \n",
    "    def roll_die(self, n_rolls=1):\n",
    "        \"\"\"\n",
    "        This method rolls the instantiated die a number of times equal to the supplied\n",
    "        parameter n_rolls, and returns a pandas series of the results of the roll(s).\n",
    "        \"\"\"\n",
    "        \n",
    "        results = []\n",
    "        \n",
    "        for i in range(n_rolls):\n",
    "            result = self.die_df.faces.sample(weights = self.die_df.weights).values[0]\n",
    "            results.append(result)\n",
    "        \n",
    "        self.results = pd.Series(results)\n",
    "        \n",
    "        return results\n",
    "\n",
    "    \n",
    "    def show_die(self):\n",
    "        \"\"\"\n",
    "        This method returns the current state of the data frame of the faces and weights\n",
    "        of the die.\n",
    "        \"\"\"\n",
    "        return self.die_df\n",
    "\n",
    "    \n",
    "class Game():\n",
    "    \"\"\"\n",
    "    A game consists of rolling one or more dice of the same kind one or more times. Each \n",
    "    die in a given game must have the same number of sides and associated faces, but each die \n",
    "    object may have its own weights. \n",
    "    \n",
    "    The class has one behavior: to play the game, which means roll all the dice a given \n",
    "    number of times.\n",
    "    \n",
    "    The class stores the results of its most recent play in a private data frame.\n",
    "    \"\"\"\n",
    "    \n",
    "    def __init__(self, dice):\n",
    "        \"\"\"\n",
    "        This initializer takes one parameter: a list of already-instantiated similar Die\n",
    "        objects. \n",
    "        \n",
    "        The initializer tests:\n",
    "        - whether the object passed is a list\n",
    "        - whether each object in the list is a Die object\n",
    "        - whether all dice have the same set of faces\n",
    "        \n",
    "        Finally, the initializer stores the list of face types for the first Die for later\n",
    "        use by the Analyzer class.\n",
    "        \"\"\"\n",
    "        \n",
    "        self.dice = dice\n",
    "        \n",
    "        if not isinstance(self.dice, list):\n",
    "            raise ValueError(\"You must input a list of existing Die objects.\")\n",
    "        \n",
    "        x = [type(x) == Die for x in self.dice]\n",
    "        \n",
    "        if False in x:\n",
    "            raise ValueError(\"All elements of the list must be existing Die objects.\")\n",
    "        \n",
    "        # check whether all dice in self.dice have the same faces\n",
    "        \n",
    "        for i in range(1, len(self.dice)):\n",
    "            if not dice[0].faces.sort() == dice[i].faces.sort():\n",
    "                raise ValueError(\"All dice in the game must have the same faces.\")\n",
    "        \n",
    "    \n",
    "    \n",
    "    def play(self, n):\n",
    "        \"\"\"\n",
    "        This method takes a parameter for how many times the dice should be rolled.\n",
    "        \n",
    "        The class then saves the result of the play to a private data frame of shape N \n",
    "        rolls by M dice. The data frame uses the roll number as a named indec.\n",
    "        \n",
    "        The resulting data frame has columns for the roll number, the die number (its\n",
    "        list index), and the face rolled in that instance.\n",
    "        \n",
    "        roll_number |  0  |  1  |  2  |  .  |  .  |  m  |\n",
    "        -------------------------------------------------\n",
    "             0      |  4  |  2  |  3  |  .  |  .  |  1  |\n",
    "             1      |  1  |  5  |  2  |  .  |  .  |  2  |\n",
    "             2      |  3  |  4  |  6  |  .  |  .  |  1  |\n",
    "             .      |  .  |  .  |  .  |  .  |  .  |  5  |\n",
    "             .      |  .  |  .  |  .  |  .  |  .  |  3  |\n",
    "             n      |  6  |  1  |  5  |  4  |  2  |  6  |\n",
    "        \n",
    "        \"\"\"\n",
    "        \n",
    "        self.last_play = pd.DataFrame(columns = [x for x in range(len(self.dice))],\n",
    "                                      index = [x for x in range(n)])\n",
    "        \n",
    "        self.last_play.index.name = 'roll_number'\n",
    "        \n",
    "        for i in self.last_play.columns:\n",
    "            self.last_play[i] = self.dice[i].roll_die(n)\n",
    "        \n",
    "        \n",
    "    def show_last_play(self, nw_form=0):\n",
    "        \"\"\"\n",
    "        This method simply the data frame with the results of the last play. It includes an\n",
    "        additional parameter to allow a user to return the data frame in either wide (nw_form=0) \n",
    "        or narrow (nw_form=1) form.\n",
    "        \"\"\"\n",
    "        \n",
    "        if not (nw_form == 0 or nw_form == 1):\n",
    "            raise ValueError(\"Enter 0 to return the last play in wide form or 1 to return it in narrow form.\")\n",
    "        \n",
    "        if nw_form == 0:\n",
    "            return self.last_play\n",
    "        \n",
    "        if nw_form == 1:\n",
    "            return self.last_play.unstack()\n",
    "        \n",
    "        \n",
    "class Analyzer():\n",
    "    \"\"\"\n",
    "    This class takes as input the results of a single game and computes various descriptive\n",
    "    statistical properties about it. These properties results are available as attributes\n",
    "    of an Analyzer object.\n",
    "    \n",
    "    Methods:\n",
    "      - jackpot\n",
    "      - combo\n",
    "      - face_counts_per_roll\n",
    "    \n",
    "    \"\"\"\n",
    "    \n",
    "    def __init__(self, game):\n",
    "        \"\"\"\n",
    "        This initializer takes a game object as its input parameter. \n",
    "        \n",
    "        At initialization, it makes note the data type of the first die in the game's dice \n",
    "        list. Note: the initializer for the Game checks whether the list of faces on all dice \n",
    "        are identical. Therefore, the initializer only needs to know the face types of one Die.\n",
    "        \"\"\"\n",
    "        \n",
    "        self.game = game\n",
    "        \n",
    "        self.game_face_types = self.game.dice[0].faces_type_list\n",
    "        \n",
    "    \n",
    "    def jackpot(self):\n",
    "        \"\"\"\n",
    "        This method computes how many times the game resulted in all faces being identical. It\n",
    "        creates a new column that calculates the length of a set created by the other rows of \n",
    "        results, and gives this cell a value of 1 if the length of the set is 1, and 0 otherwise. \n",
    "        It returns the sum of this column.\n",
    "        \"\"\"\n",
    "        \n",
    "        length = self.game.last_play.shape[0] # number of rows\n",
    "        \n",
    "        self.game.last_play['jackpot'] = 0\n",
    "        \n",
    "        width = self.game.last_play.shape[1]\n",
    "        \n",
    "        for i in range(length):\n",
    "            if len(set(self.game.last_play.iloc[i, 0:(width-1)])) == 1:\n",
    "                self.game.last_play['jackpot'].iloc[i] = 1\n",
    "        \n",
    "        return sum(self.game.last_play['jackpot'])\n",
    "        \n",
    "        \n",
    "        \n",
    "    def combo(self):\n",
    "        \"\"\"\n",
    "        This method computes the distinct combinations of faces rolled, along with their counts.\n",
    "        \n",
    "        The combinations are sorted and stored as a multi-columned index, and then saved as a\n",
    "        data frame in a public attribute.\n",
    "        \"\"\"\n",
    "        # extract all of the rows of last_play into a list of lists, convert \n",
    "        # the list to a pd.Series, then assign my_df = series.value_counts().to_frame()\n",
    "        \n",
    "        all_combos = pd.Series([list(self.game.last_play.iloc[x, 0:5]) for x in range(len(self.game.last_play.index))])\n",
    "        \n",
    "        self.combos = all_combos.value_counts().to_frame('count')\n",
    "        \n",
    "        self.combos.index.name = 'unique_combos'\n",
    "        \n",
    "        self.combos.sort_values(by = ['count'], ascending=False)\n",
    "        \n",
    "        \n",
    "    def face_counts_per_roll(self):\n",
    "        \"\"\"\n",
    "        This method computes how many times per roll a given face is rolled in each event. For \n",
    "        example, if a roll of 5 dice has all sixes, then the counts for that roll would be\n",
    "        6 for the face value of '6' and 0 for the other faces.\n",
    "        \n",
    "        The method stores the results as a data frame in a public attribute. This data frame has\n",
    "        an index of the roll number and the face values as columns (i.e., the data frame is in\n",
    "        wide format).\n",
    "        \"\"\"\n",
    "        \n",
    "        length = self.game.last_play.shape[0] # number of rows\n",
    "        \n",
    "        self.face_counts = pd.DataFrame(\n",
    "            columns = [self.game.dice[0].faces[x] for x in range(len(self.game.dice[0].faces))],\n",
    "            index = [x for x in range(length)]\n",
    "        )\n",
    "        \n",
    "        self.face_counts.index.name = 'roll_number'\n",
    "        \n",
    "        for column in list(self.face_counts.columns):\n",
    "            for row in range(len(self.face_counts.index)):\n",
    "                col_index = self.face_counts.columns.get_loc(column)\n",
    "                self.face_counts.iloc[row,col_index] = list(self.game.last_play.iloc[row]).count(column)\n",
    "        "
   ]
  },
  {
   "cell_type": "markdown",
   "id": "4c81c4f0-b6ff-46ab-ba2c-9de7f0179715",
   "metadata": {},
   "source": [
    "# Test Module"
   ]
  },
  {
   "cell_type": "code",
   "execution_count": null,
   "id": "14b878d8-258b-4cf2-ad88-b8ee90d43977",
   "metadata": {},
   "outputs": [],
   "source": [
    "import unittest\n",
    "from montecarlo import Die\n",
    "from montecarlo import Game\n",
    "from montecarlo import Analyzer\n",
    "\n",
    "class MonteCarloTestSuite(unittest.TestCase):\n",
    "\n",
    "    def test_1_create_die(self):\n",
    "        \"\"\"\n",
    "        This method tests that an instance has been created and includes the correct number of faces.\n",
    "        \"\"\"\n",
    "        # create instance\n",
    "        \n",
    "        n = 6\n",
    "        \n",
    "        test_die = Die(list(range(1, n + 1)))\n",
    "        \n",
    "        test_value = (len(test_die.die_df.faces) == n)\n",
    "        \n",
    "        message = \"Error: Incorrect value for number of faces.\"\n",
    "        \n",
    "        self.assertTrue(test_value, message)\n",
    "\n",
    "        \n",
    "    def test_2_change_weights(self):\n",
    "        \"\"\"\n",
    "        This method tests whether or not the change_weight() method correctly updated the weight of the specified face.\n",
    "        \"\"\"\n",
    "        # create instance\n",
    "        \n",
    "        n = 6\n",
    "        \n",
    "        test_die = Die(list(range(1, n + 1)))\n",
    "        \n",
    "        test_die.change_weights(n, 5)\n",
    "        \n",
    "        test_value = test_die.die_df.weights[n - 1] == 5\n",
    "        \n",
    "        message = \"Error: Incorrect weight for specified face.\"\n",
    "        \n",
    "        self.assertTrue(test_value, message)\n",
    "        \n",
    "        \n",
    "    def test_3_roll_die(self):\n",
    "        \"\"\"\n",
    "        This method tests whether or not the roll_die() method returns the correct number of rolls.\n",
    "        \"\"\"\n",
    "        # create instance\n",
    "        \n",
    "        n = 6\n",
    "        \n",
    "        test_die = Die(list(range(1, n + 1)))\n",
    "        \n",
    "        test_value = len(test_die.roll_die(n)) == n\n",
    "\n",
    "        message = \"Error: Incorrect number of rolls.\"\n",
    "        \n",
    "        self.assertTrue(test_value, message)\n",
    "    \n",
    "    \n",
    "    def test_4_show_die(self):\n",
    "        \"\"\"\n",
    "        This method tests whether or not the private data frame self.die_df has the correct dimensions.\n",
    "        \"\"\"\n",
    "        # create instance\n",
    "        \n",
    "        n = 6\n",
    "        \n",
    "        test_die = Die(list(range(1, n + 1)))\n",
    "        \n",
    "        test_value = test_die.show_die().shape == (n, 2)\n",
    "        \n",
    "        message = \"Error: Incorrect dimensions of self.die_df.\"\n",
    "        \n",
    "        self.assertTrue(test_value, message)\n",
    "        \n",
    "        \n",
    "    def test_5_play(self):\n",
    "        \"\"\"\n",
    "        This method tests whether the play method creates a last_play data frame\n",
    "        with the correct number of columns (dice) and rows (number of rolls).\n",
    "        \"\"\"\n",
    "        # create instances of dice\n",
    "        \n",
    "        n = 6\n",
    "        \n",
    "        test_die_1 = Die(list(range(1, n + 1)))\n",
    "        test_die_2 = Die(list(range(1, n + 1)))\n",
    "        test_die_3 = Die(list(range(1, n + 1)))\n",
    "        \n",
    "        test_dice_list = [test_die_1, test_die_2, test_die_3]\n",
    "        \n",
    "        # create instance of game\n",
    "        \n",
    "        test_game = Game(test_dice_list)\n",
    "        \n",
    "        test_game.play(4)\n",
    "        \n",
    "        test_value = test_game.last_play.shape == (4, 3)\n",
    "        \n",
    "        message = \"Error: Incorrect dimensions of test_game.last_play data frame.\"\n",
    "        \n",
    "        self.assertTrue(test_value, message)\n",
    "        \n",
    "        \n",
    "    def test_6_show_last_play(self):\n",
    "        \"\"\"\n",
    "        This method tests whether the show_last_play() method with the default parameter\n",
    "        correctly returns the last_play object in wide format.\n",
    "        \"\"\"\n",
    "        # create instances of dice\n",
    "        \n",
    "        n = 6\n",
    "        \n",
    "        test_die_1 = Die(list(range(1, n + 1)))\n",
    "        test_die_2 = Die(list(range(1, n + 1)))\n",
    "        test_die_3 = Die(list(range(1, n + 1)))\n",
    "        \n",
    "        test_dice_list = [test_die_1, test_die_2, test_die_3]\n",
    "        \n",
    "        # create instance of game\n",
    "        \n",
    "        test_game = Game(test_dice_list)\n",
    "        \n",
    "        test_game.play(4)\n",
    "        \n",
    "        test_game.show_last_play()\n",
    "        \n",
    "        test_value = test_game.last_play.shape == (4, 3)\n",
    "        \n",
    "        message = \"Error: test_game.last_play data frame did not display in wide format.\"\n",
    "        \n",
    "        self.assertTrue(test_value, message)\n",
    "        \n",
    "        \n",
    "    def test_7_jackpot(self):\n",
    "        \"\"\"\n",
    "        This method tests whether the jackpot() method correctly counts the number of jackpots\n",
    "        in the last_play results. For this method, all dice have identical faces so that all \n",
    "        rows of last_play will be jackpots. The number of jackpots should then equal the number \n",
    "        of rolls.\n",
    "        \"\"\"\n",
    "        # create instances of dice with all identical faces \n",
    "        \n",
    "        faces = [6,6,6,6,6,6]\n",
    "        \n",
    "        test_die_1 = Die(faces)\n",
    "        test_die_2 = Die(faces)\n",
    "        test_die_3 = Die(faces)\n",
    "        \n",
    "        test_dice_list = [test_die_1, test_die_2, test_die_3]\n",
    "        \n",
    "        # create instance of game\n",
    "        \n",
    "        test_game = Game(test_dice_list)\n",
    "        \n",
    "        test_game.play(4)\n",
    "        \n",
    "        test_analyzer = Analyzer(test_game)\n",
    "        \n",
    "        test_value = test_analyzer.jackpot() == 4\n",
    "        \n",
    "        message = \"Error: test_game.last_play data frame did not display in wide format.\"\n",
    "        \n",
    "        self.assertTrue(test_value, message)\n",
    "        \n",
    "        \n",
    "        \n",
    "    def test_8_combo(self):\n",
    "        \"\"\"\n",
    "        This method tests whether the combo() method correctly groups and counts matches\n",
    "        from the game.last_play data frame. Each die has a single face, so every row will\n",
    "        have the same combo, and the count of the \n",
    "        \"\"\"\n",
    "        # create instances of dice\n",
    "        \n",
    "        test_die_1 = Die(list('U'))\n",
    "        test_die_2 = Die(list('V'))\n",
    "        test_die_3 = Die(list('A'))\n",
    "        \n",
    "        test_dice_list = [test_die_1, test_die_2, test_die_3]\n",
    "        \n",
    "        # create instance of game\n",
    "        \n",
    "        test_game = Game(test_dice_list)\n",
    "        \n",
    "        test_game.play(4)\n",
    "        \n",
    "        test_analyzer = Analyzer(test_game)\n",
    "        \n",
    "        test_analyzer.combo()\n",
    "        \n",
    "        test_value = (test_analyzer.combos.index[0] == ['U','V','A']) & (test_analyzer.combos['count'][0] == 4)\n",
    "    \n",
    "        message = \"Error: Incorrect values for the combo and count.\"\n",
    "        \n",
    "        self.assertTrue(test_value, message)\n",
    "        \n",
    "        \n",
    "        \n",
    "    def test_9_face_counts_per_roll(self):\n",
    "        \"\"\"\n",
    "        This method tests whether the face_counts data frame has the correct shape given \n",
    "        the number of dice and rolls.\n",
    "        \"\"\"\n",
    "        # create instances of dice\n",
    "        \n",
    "        n = 6\n",
    "        \n",
    "        test_die_1 = Die(list(range(1, n + 1)))\n",
    "        test_die_2 = Die(list(range(1, n + 1)))\n",
    "        test_die_3 = Die(list(range(1, n + 1)))\n",
    "        \n",
    "        test_dice_list = [test_die_1, test_die_2, test_die_3]\n",
    "        \n",
    "        # create instance of game\n",
    "        \n",
    "        test_game = Game(test_dice_list)\n",
    "        \n",
    "        test_game.play(4)\n",
    "        \n",
    "        test_analyzer = Analyzer(test_game)\n",
    "        \n",
    "        test_analyzer.face_counts_per_roll()\n",
    "        \n",
    "        test_value = test_analyzer.face_counts.shape == (4, 6)\n",
    "        \n",
    "        message = \"Error: Incorrect dimensions for the face_counts data frame.\"\n",
    "        \n",
    "        self.assertTrue(test_value, message)\n",
    "        \n",
    "        \n",
    "        \n",
    "if __name__ == '__main__':\n",
    "\n",
    "    unittest.main(verbosity=3)"
   ]
  },
  {
   "cell_type": "markdown",
   "id": "3c2b90b6-ac8b-43fa-a069-cb5b0b22aee0",
   "metadata": {},
   "source": [
    "# Test Results"
   ]
  },
  {
   "cell_type": "markdown",
   "id": "29aad856",
   "metadata": {},
   "source": [
    "test_1_create_die (__main__.MonteCarloTestSuite)\\\n",
    "This method tests that an instance has been created and includes the correct number of faces. ... ok\\\n",
    "test_2_change_weights (__main__.MonteCarloTestSuite)\\\n",
    "This method tests whether or not the change_weight() method correctly updated the weight of the specified face. ... ok\\\n",
    "test_3_roll_die (__main__.MonteCarloTestSuite)\\\n",
    "This method tests whether or not the roll_die() method returns the correct number of rolls. ... ok\\\n",
    "test_4_show_die (__main__.MonteCarloTestSuite)\\\n",
    "This method tests whether or not the private data frame self.die_df has the correct dimensions. ... ok\\\n",
    "test_5_play (__main__.MonteCarloTestSuite)\\\n",
    "This method tests whether the play method creates a last_play data frame ... ok\\\n",
    "test_6_show_last_play (__main__.MonteCarloTestSuite)\\\n",
    "This method tests whether the show_last_play() method with the default parameter ... ok\\\n",
    "test_7_jackpot (__main__.MonteCarloTestSuite)\\\n",
    "This method tests whether the jackpot() method correctly counts the number of jackpots ... ok\\\n",
    "test_8_combo (__main__.MonteCarloTestSuite)\\\n",
    "This method tests whether the combo() method correctly groups and counts matches ... ok\\\n",
    "test_9_face_counts_per_roll (__main__.MonteCarloTestSuite)\\\n",
    "This method tests whether the face_counts data frame has the correct shape given ... ok\\\n",
    "\n",
    "----------------------------------------------------------------------\\\n",
    "Ran 9 tests in 0.040s\\\n",
    "\\\n",
    "OK"
   ]
  },
  {
   "cell_type": "markdown",
   "id": "7c44695d-d1b3-4edf-9f94-e64d7446f199",
   "metadata": {},
   "source": [
    "# Scenarios\n",
    "\n",
    "**Code blocks with your scenarios and their outputs.**\n",
    "\n",
    "**These should have appropriate import statements even though the code is now in the same notebook as the classes it calls.**"
   ]
  },
  {
   "cell_type": "code",
   "execution_count": null,
   "id": "33789df1",
   "metadata": {},
   "outputs": [],
   "source": [
    "from montecarlo import Die\n",
    "from montecarlo import Game\n",
    "from montecarlo import Analyzer"
   ]
  },
  {
   "cell_type": "markdown",
   "id": "90b7abd8-f4a7-4d71-bc9a-746640516b98",
   "metadata": {},
   "source": [
    "## Scenario 1"
   ]
  },
  {
   "cell_type": "markdown",
   "id": "7fc4a697",
   "metadata": {},
   "source": [
    "**Create a fair coin (with faces H and T) and one unfair coin, in which one of the faces has a weight of 5 and the other has weight of 1.**"
   ]
  },
  {
   "cell_type": "code",
   "execution_count": 9,
   "id": "52b77b39",
   "metadata": {},
   "outputs": [],
   "source": [
    "coin_sides = ['H','T']"
   ]
  },
  {
   "cell_type": "code",
   "execution_count": 23,
   "id": "186538cc",
   "metadata": {},
   "outputs": [],
   "source": [
    "fair_coin = Die(coin_sides)\n",
    "unfair_coin = Die(coin_sides)"
   ]
  },
  {
   "cell_type": "code",
   "execution_count": 36,
   "id": "b771d4e6",
   "metadata": {},
   "outputs": [],
   "source": [
    "pd.options.mode.chained_assignment = None"
   ]
  },
  {
   "cell_type": "code",
   "execution_count": 37,
   "id": "0cb76de5",
   "metadata": {},
   "outputs": [],
   "source": [
    "unfair_coin.change_weights('H', 5)"
   ]
  },
  {
   "cell_type": "markdown",
   "id": "a5a674bf",
   "metadata": {},
   "source": [
    "**Play a game of 1000 flips with all fair dice.**"
   ]
  },
  {
   "cell_type": "code",
   "execution_count": 38,
   "id": "ac2443e6",
   "metadata": {},
   "outputs": [],
   "source": [
    "fair_game = Game([fair_coin, fair_coin])"
   ]
  },
  {
   "cell_type": "code",
   "execution_count": 39,
   "id": "aadde953",
   "metadata": {},
   "outputs": [],
   "source": [
    "fair_game.play(1000)"
   ]
  },
  {
   "cell_type": "markdown",
   "id": "6f295e0d",
   "metadata": {},
   "source": [
    "**Play a game of 1000 flips with two unfair coins and one fair coin.**"
   ]
  },
  {
   "cell_type": "code",
   "execution_count": 40,
   "id": "aa8d004d",
   "metadata": {},
   "outputs": [],
   "source": [
    "unfair_game = Game([unfair_coin, unfair_coin, fair_coin])"
   ]
  },
  {
   "cell_type": "code",
   "execution_count": 41,
   "id": "66a7725c",
   "metadata": {},
   "outputs": [],
   "source": [
    "unfair_game.play(1000)"
   ]
  },
  {
   "cell_type": "markdown",
   "id": "d6ebfffb",
   "metadata": {},
   "source": [
    "**For each game, use an Analyzer object to determine the relative frequency of jackpots (number of jackpots over the total number of rolls).**"
   ]
  },
  {
   "cell_type": "code",
   "execution_count": 42,
   "id": "352b4f08",
   "metadata": {},
   "outputs": [],
   "source": [
    "f_analyzer = Analyzer(fair_game)\n",
    "u_analyzer = Analyzer(unfair_game)"
   ]
  },
  {
   "cell_type": "code",
   "execution_count": 44,
   "id": "6aa530b1",
   "metadata": {},
   "outputs": [],
   "source": [
    "fg_frequency = f_analyzer.jackpot()/1000"
   ]
  },
  {
   "cell_type": "code",
   "execution_count": 45,
   "id": "bbb43084",
   "metadata": {},
   "outputs": [],
   "source": [
    "ug_frequency = u_analyzer.jackpot()/1000"
   ]
  },
  {
   "cell_type": "code",
   "execution_count": 48,
   "id": "63221182",
   "metadata": {},
   "outputs": [
    {
     "data": {
      "text/html": [
       "<div>\n",
       "<style scoped>\n",
       "    .dataframe tbody tr th:only-of-type {\n",
       "        vertical-align: middle;\n",
       "    }\n",
       "\n",
       "    .dataframe tbody tr th {\n",
       "        vertical-align: top;\n",
       "    }\n",
       "\n",
       "    .dataframe thead th {\n",
       "        text-align: right;\n",
       "    }\n",
       "</style>\n",
       "<table border=\"1\" class=\"dataframe\">\n",
       "  <thead>\n",
       "    <tr style=\"text-align: right;\">\n",
       "      <th></th>\n",
       "      <th>Frequency</th>\n",
       "    </tr>\n",
       "  </thead>\n",
       "  <tbody>\n",
       "    <tr>\n",
       "      <th>Fair Game</th>\n",
       "      <td>0.520</td>\n",
       "    </tr>\n",
       "    <tr>\n",
       "      <th>Unfair Game</th>\n",
       "      <td>0.348</td>\n",
       "    </tr>\n",
       "  </tbody>\n",
       "</table>\n",
       "</div>"
      ],
      "text/plain": [
       "             Frequency\n",
       "Fair Game        0.520\n",
       "Unfair Game      0.348"
      ]
     },
     "execution_count": 48,
     "metadata": {},
     "output_type": "execute_result"
    }
   ],
   "source": [
    "sc1_results = pd.DataFrame(columns = ['Frequency'],\n",
    "                           index = ['Fair Game', 'Unfair Game'],\n",
    "                           data = [fg_frequency, ug_frequency]\n",
    ")\n",
    "sc1_results"
   ]
  },
  {
   "cell_type": "markdown",
   "id": "e038e3b5",
   "metadata": {},
   "source": [
    "**Compare the two relative frequencies in a simple bar chart.**"
   ]
  },
  {
   "cell_type": "code",
   "execution_count": 67,
   "id": "60d351fb",
   "metadata": {},
   "outputs": [
    {
     "data": {
      "text/plain": [
       "<AxesSubplot:title={'center':'Relative Frequency of Jackpots for Fair Coins vs. Unfair Coins'}>"
      ]
     },
     "execution_count": 67,
     "metadata": {},
     "output_type": "execute_result"
    },
    {
     "data": {
      "image/png": "[encoded data removed]",
      "text/plain": [
       "<Figure size 640x480 with 1 Axes>"
      ]
     },
     "metadata": {},
     "output_type": "display_data"
    }
   ],
   "source": [
    "sc1_results.plot.bar(rot = 0, title = \"Relative Frequency of Jackpots for Fair Coins vs. Unfair Coins\")"
   ]
  },
  {
   "cell_type": "markdown",
   "id": "92793a09-0024-465d-b272-2ef8b9a6c21c",
   "metadata": {},
   "source": [
    "## Scenario 2"
   ]
  },
  {
   "cell_type": "markdown",
   "id": "33a8a686",
   "metadata": {},
   "source": [
    "**Create a far die and two unfair dice, all of 6 sides with the faces 1 through 6. One unfair die (Type 1) will weight 6 five times more than the others. The other unfair die (Type 2) will weight 1 five times more than the others.**"
   ]
  },
  {
   "cell_type": "code",
   "execution_count": 68,
   "id": "7218e98e-6ec0-4766-8793-5b386ce6ee24",
   "metadata": {},
   "outputs": [],
   "source": [
    "fair_die = Die([1,2,3,4,5,6])\n",
    "unfair_die_1 = Die([1,2,3,4,5,6])\n",
    "unfair_die_1.change_weights(6, 5)\n",
    "unfair_die_2 = Die([1,2,3,4,5,6])\n",
    "unfair_die_2.change_weights(1, 5)"
   ]
  },
  {
   "cell_type": "markdown",
   "id": "012054c7",
   "metadata": {},
   "source": [
    "**Play a game of 10000 rolls with 5 fair dice.**"
   ]
  },
  {
   "cell_type": "code",
   "execution_count": 70,
   "id": "f9393151",
   "metadata": {},
   "outputs": [],
   "source": [
    "dice_fair_game = Game([fair_die,fair_die,fair_die,fair_die,fair_die])\n",
    "dice_fair_game.play(10000)"
   ]
  },
  {
   "cell_type": "markdown",
   "id": "1e25a218",
   "metadata": {},
   "source": [
    "**Play a game of 10000 rolls with 2 unfair dice of type 1, 1 unfair die of type 2, and the rest fair dice.**"
   ]
  },
  {
   "cell_type": "code",
   "execution_count": 69,
   "id": "7cddda18",
   "metadata": {},
   "outputs": [],
   "source": [
    "dice_unfair_game = Game([unfair_die_1,unfair_die_1,unfair_die_2,fair_die,fair_die])\n",
    "dice_unfair_game.play(10000)"
   ]
  },
  {
   "cell_type": "markdown",
   "id": "49d34641",
   "metadata": {},
   "source": [
    "**For each game, use an Analyzer object to determine the relative frequency of jackpots and show your results, comparing the two relative frequencies, in a simple bar chart.**"
   ]
  },
  {
   "cell_type": "code",
   "execution_count": 71,
   "id": "3d65561e",
   "metadata": {},
   "outputs": [],
   "source": [
    "fg_analyzer = Analyzer(dice_fair_game)\n",
    "ug_analyzer = Analyzer(dice_unfair_game)"
   ]
  },
  {
   "cell_type": "code",
   "execution_count": 76,
   "id": "60665602",
   "metadata": {},
   "outputs": [
    {
     "data": {
      "text/html": [
       "<div>\n",
       "<style scoped>\n",
       "    .dataframe tbody tr th:only-of-type {\n",
       "        vertical-align: middle;\n",
       "    }\n",
       "\n",
       "    .dataframe tbody tr th {\n",
       "        vertical-align: top;\n",
       "    }\n",
       "\n",
       "    .dataframe thead th {\n",
       "        text-align: right;\n",
       "    }\n",
       "</style>\n",
       "<table border=\"1\" class=\"dataframe\">\n",
       "  <thead>\n",
       "    <tr style=\"text-align: right;\">\n",
       "      <th></th>\n",
       "      <th>Frequency</th>\n",
       "    </tr>\n",
       "  </thead>\n",
       "  <tbody>\n",
       "    <tr>\n",
       "      <th>Fair Dice Game</th>\n",
       "      <td>0.0010</td>\n",
       "    </tr>\n",
       "    <tr>\n",
       "      <th>Unfair Dice Game</th>\n",
       "      <td>0.0009</td>\n",
       "    </tr>\n",
       "  </tbody>\n",
       "</table>\n",
       "</div>"
      ],
      "text/plain": [
       "                  Frequency\n",
       "Fair Dice Game       0.0010\n",
       "Unfair Dice Game     0.0009"
      ]
     },
     "execution_count": 76,
     "metadata": {},
     "output_type": "execute_result"
    }
   ],
   "source": [
    "fdg_frequency = fg_analyzer.jackpot()/10000\n",
    "udg_frequency = ug_analyzer.jackpot()/10000\n",
    "\n",
    "sc2_results = pd.DataFrame(columns = ['Frequency'],\n",
    "                           index = ['Fair Dice Game', 'Unfair Dice Game'],\n",
    "                           data = [fdg_frequency, udg_frequency]\n",
    "                          )\n",
    "sc2_results"
   ]
  },
  {
   "cell_type": "code",
   "execution_count": 78,
   "id": "134c0e12",
   "metadata": {},
   "outputs": [
    {
     "data": {
      "text/plain": [
       "<AxesSubplot:title={'center':'Relative Frequency of Jackpots for Fair Dice vs. Unfair Dice'}>"
      ]
     },
     "execution_count": 78,
     "metadata": {},
     "output_type": "execute_result"
    },
    {
     "data": {
      "image/png": "[encoded data removed]",
      "text/plain": [
       "<Figure size 640x480 with 1 Axes>"
      ]
     },
     "metadata": {},
     "output_type": "display_data"
    }
   ],
   "source": [
    "sc2_results.plot.bar(rot = 0, title = \"Relative Frequency of Jackpots for Fair Dice vs. Unfair Dice\")"
   ]
  },
  {
   "cell_type": "markdown",
   "id": "19ef27db",
   "metadata": {},
   "source": [
    "**Compute the 10 most frequent combinations of faces for each game. Plot each of these as bar charts.**"
   ]
  },
  {
   "cell_type": "code",
   "execution_count": 72,
   "id": "a62ede75",
   "metadata": {},
   "outputs": [],
   "source": [
    "fg_analyzer.combo()\n",
    "ug_analyzer.combo()"
   ]
  },
  {
   "cell_type": "code",
   "execution_count": 139,
   "id": "4c13f932",
   "metadata": {},
   "outputs": [
    {
     "data": {
      "text/plain": [
       "<AxesSubplot:title={'center':'Most Frequent Combos from 10000 Rolls'}, ylabel='Unique Combos'>"
      ]
     },
     "execution_count": 139,
     "metadata": {},
     "output_type": "execute_result"
    },
    {
     "data": {
      "image/png": "[encoded data removed]",
      "text/plain": [
       "<Figure size 640x480 with 1 Axes>"
      ]
     },
     "metadata": {},
     "output_type": "display_data"
    }
   ],
   "source": [
    "fg_analyzer.combos.head(10).plot.barh(title = \"Most Frequent Combos: 10000 Rolls with Fair Dice\",\n",
    "                                     xlabel = \"Unique Combos\")"
   ]
  },
  {
   "cell_type": "code",
   "execution_count": 140,
   "id": "bff2a4b5",
   "metadata": {},
   "outputs": [
    {
     "data": {
      "text/plain": [
       "<AxesSubplot:title={'center':'Most Frequent Combos: 10000 Rolls with Unfair Dice'}, ylabel='Unique Combos'>"
      ]
     },
     "execution_count": 140,
     "metadata": {},
     "output_type": "execute_result"
    },
    {
     "data": {
      "image/png": "[encoded data removed]",
      "text/plain": [
       "<Figure size 640x480 with 1 Axes>"
      ]
     },
     "metadata": {},
     "output_type": "display_data"
    }
   ],
   "source": [
    "ug_analyzer.combos.head(10).plot.barh(title = \"Most Frequent Combos: 10000 Rolls with Unfair Dice\",\n",
    "                                     xlabel = \"Unique Combos\")"
   ]
  },
  {
   "cell_type": "markdown",
   "id": "1b47f5b6-188d-4d24-9c2f-687b430e6624",
   "metadata": {},
   "source": [
    "## Scenario 3"
   ]
  },
  {
   "cell_type": "markdown",
   "id": "aee622c7",
   "metadata": {},
   "source": [
    "**Create a \"die\" of letters from a to z with weights based on their frequency of usage.**"
   ]
  },
  {
   "cell_type": "code",
   "execution_count": 120,
   "id": "ad6d2878-f832-4065-98a3-1ea78ff0a6d3",
   "metadata": {},
   "outputs": [],
   "source": [
    "letter_weights = pd.read_csv('letter_weights.csv')"
   ]
  },
  {
   "cell_type": "code",
   "execution_count": 122,
   "id": "792e2eb6",
   "metadata": {},
   "outputs": [],
   "source": [
    "letters = list(letter_weights['faces'])"
   ]
  },
  {
   "cell_type": "code",
   "execution_count": 123,
   "id": "f2f98650",
   "metadata": {},
   "outputs": [],
   "source": [
    "alpha_die = Die(letters)"
   ]
  },
  {
   "cell_type": "code",
   "execution_count": 124,
   "id": "f4971a14",
   "metadata": {},
   "outputs": [],
   "source": [
    "alpha_die.die_df = letter_weights"
   ]
  },
  {
   "cell_type": "markdown",
   "id": "d17734eb",
   "metadata": {},
   "source": [
    "**Play a game using 5 of these dice with 1000 rolls.**"
   ]
  },
  {
   "cell_type": "code",
   "execution_count": 132,
   "id": "a9d8a6de",
   "metadata": {},
   "outputs": [],
   "source": [
    "alpha_game = Game([alpha_die, alpha_die, alpha_die, alpha_die, alpha_die])\n",
    "alpha_game.play(1000)"
   ]
  },
  {
   "cell_type": "markdown",
   "id": "d0739de0",
   "metadata": {},
   "source": [
    "**How many combos look like actual English words?**"
   ]
  },
  {
   "cell_type": "code",
   "execution_count": 133,
   "id": "61fe32d8",
   "metadata": {},
   "outputs": [],
   "source": [
    "alpha_analyzer = Analyzer(alpha_game)\n",
    "alpha_analyzer.combo()"
   ]
  },
  {
   "cell_type": "code",
   "execution_count": 134,
   "id": "7f09e7d7",
   "metadata": {},
   "outputs": [
    {
     "data": {
      "text/html": [
       "<div>\n",
       "<style scoped>\n",
       "    .dataframe tbody tr th:only-of-type {\n",
       "        vertical-align: middle;\n",
       "    }\n",
       "\n",
       "    .dataframe tbody tr th {\n",
       "        vertical-align: top;\n",
       "    }\n",
       "\n",
       "    .dataframe thead th {\n",
       "        text-align: right;\n",
       "    }\n",
       "</style>\n",
       "<table border=\"1\" class=\"dataframe\">\n",
       "  <thead>\n",
       "    <tr style=\"text-align: right;\">\n",
       "      <th></th>\n",
       "      <th>count</th>\n",
       "    </tr>\n",
       "    <tr>\n",
       "      <th>unique_combos</th>\n",
       "      <th></th>\n",
       "    </tr>\n",
       "  </thead>\n",
       "  <tbody>\n",
       "    <tr>\n",
       "      <th>[E, I, S, P, E]</th>\n",
       "      <td>2</td>\n",
       "    </tr>\n",
       "    <tr>\n",
       "      <th>[O, Y, L, N, E]</th>\n",
       "      <td>1</td>\n",
       "    </tr>\n",
       "    <tr>\n",
       "      <th>[A, U, I, H, E]</th>\n",
       "      <td>1</td>\n",
       "    </tr>\n",
       "    <tr>\n",
       "      <th>[E, C, N, W, R]</th>\n",
       "      <td>1</td>\n",
       "    </tr>\n",
       "    <tr>\n",
       "      <th>[H, T, F, R, S]</th>\n",
       "      <td>1</td>\n",
       "    </tr>\n",
       "    <tr>\n",
       "      <th>[L, O, I, E, A]</th>\n",
       "      <td>1</td>\n",
       "    </tr>\n",
       "    <tr>\n",
       "      <th>[B, T, L, C, C]</th>\n",
       "      <td>1</td>\n",
       "    </tr>\n",
       "    <tr>\n",
       "      <th>[D, T, F, I, I]</th>\n",
       "      <td>1</td>\n",
       "    </tr>\n",
       "    <tr>\n",
       "      <th>[T, W, H, O, O]</th>\n",
       "      <td>1</td>\n",
       "    </tr>\n",
       "    <tr>\n",
       "      <th>[I, G, S, O, T]</th>\n",
       "      <td>1</td>\n",
       "    </tr>\n",
       "    <tr>\n",
       "      <th>[A, M, N, R, A]</th>\n",
       "      <td>1</td>\n",
       "    </tr>\n",
       "    <tr>\n",
       "      <th>[I, N, R, E, I]</th>\n",
       "      <td>1</td>\n",
       "    </tr>\n",
       "    <tr>\n",
       "      <th>[P, T, I, H, L]</th>\n",
       "      <td>1</td>\n",
       "    </tr>\n",
       "    <tr>\n",
       "      <th>[V, C, T, I, U]</th>\n",
       "      <td>1</td>\n",
       "    </tr>\n",
       "    <tr>\n",
       "      <th>[I, C, O, H, S]</th>\n",
       "      <td>1</td>\n",
       "    </tr>\n",
       "    <tr>\n",
       "      <th>[O, I, I, E, R]</th>\n",
       "      <td>1</td>\n",
       "    </tr>\n",
       "    <tr>\n",
       "      <th>[A, R, I, E, I]</th>\n",
       "      <td>1</td>\n",
       "    </tr>\n",
       "    <tr>\n",
       "      <th>[T, E, A, L, I]</th>\n",
       "      <td>1</td>\n",
       "    </tr>\n",
       "    <tr>\n",
       "      <th>[A, C, A, E, C]</th>\n",
       "      <td>1</td>\n",
       "    </tr>\n",
       "    <tr>\n",
       "      <th>[I, P, W, C, T]</th>\n",
       "      <td>1</td>\n",
       "    </tr>\n",
       "    <tr>\n",
       "      <th>[C, L, E, I, K]</th>\n",
       "      <td>1</td>\n",
       "    </tr>\n",
       "    <tr>\n",
       "      <th>[H, O, A, B, O]</th>\n",
       "      <td>1</td>\n",
       "    </tr>\n",
       "    <tr>\n",
       "      <th>[O, B, A, A, T]</th>\n",
       "      <td>1</td>\n",
       "    </tr>\n",
       "    <tr>\n",
       "      <th>[T, R, C, Y, L]</th>\n",
       "      <td>1</td>\n",
       "    </tr>\n",
       "    <tr>\n",
       "      <th>[W, E, U, M, S]</th>\n",
       "      <td>1</td>\n",
       "    </tr>\n",
       "    <tr>\n",
       "      <th>[C, T, N, D, N]</th>\n",
       "      <td>1</td>\n",
       "    </tr>\n",
       "    <tr>\n",
       "      <th>[R, D, Z, C, S]</th>\n",
       "      <td>1</td>\n",
       "    </tr>\n",
       "    <tr>\n",
       "      <th>[H, S, R, U, A]</th>\n",
       "      <td>1</td>\n",
       "    </tr>\n",
       "    <tr>\n",
       "      <th>[G, L, T, A, L]</th>\n",
       "      <td>1</td>\n",
       "    </tr>\n",
       "    <tr>\n",
       "      <th>[H, O, L, R, R]</th>\n",
       "      <td>1</td>\n",
       "    </tr>\n",
       "    <tr>\n",
       "      <th>[I, I, A, D, R]</th>\n",
       "      <td>1</td>\n",
       "    </tr>\n",
       "    <tr>\n",
       "      <th>[E, S, E, A, I]</th>\n",
       "      <td>1</td>\n",
       "    </tr>\n",
       "    <tr>\n",
       "      <th>[B, A, M, T, Y]</th>\n",
       "      <td>1</td>\n",
       "    </tr>\n",
       "    <tr>\n",
       "      <th>[T, L, T, A, A]</th>\n",
       "      <td>1</td>\n",
       "    </tr>\n",
       "    <tr>\n",
       "      <th>[A, F, A, F, I]</th>\n",
       "      <td>1</td>\n",
       "    </tr>\n",
       "    <tr>\n",
       "      <th>[C, N, T, G, V]</th>\n",
       "      <td>1</td>\n",
       "    </tr>\n",
       "    <tr>\n",
       "      <th>[N, D, O, N, R]</th>\n",
       "      <td>1</td>\n",
       "    </tr>\n",
       "    <tr>\n",
       "      <th>[R, H, O, W, T]</th>\n",
       "      <td>1</td>\n",
       "    </tr>\n",
       "    <tr>\n",
       "      <th>[O, A, I, G, C]</th>\n",
       "      <td>1</td>\n",
       "    </tr>\n",
       "    <tr>\n",
       "      <th>[N, T, H, N, O]</th>\n",
       "      <td>1</td>\n",
       "    </tr>\n",
       "    <tr>\n",
       "      <th>[M, D, R, N, C]</th>\n",
       "      <td>1</td>\n",
       "    </tr>\n",
       "    <tr>\n",
       "      <th>[D, B, E, U, E]</th>\n",
       "      <td>1</td>\n",
       "    </tr>\n",
       "    <tr>\n",
       "      <th>[T, E, C, I, M]</th>\n",
       "      <td>1</td>\n",
       "    </tr>\n",
       "    <tr>\n",
       "      <th>[E, R, E, P, N]</th>\n",
       "      <td>1</td>\n",
       "    </tr>\n",
       "    <tr>\n",
       "      <th>[R, I, R, S, W]</th>\n",
       "      <td>1</td>\n",
       "    </tr>\n",
       "    <tr>\n",
       "      <th>[E, D, R, P, G]</th>\n",
       "      <td>1</td>\n",
       "    </tr>\n",
       "    <tr>\n",
       "      <th>[H, L, R, M, H]</th>\n",
       "      <td>1</td>\n",
       "    </tr>\n",
       "    <tr>\n",
       "      <th>[O, I, E, N, C]</th>\n",
       "      <td>1</td>\n",
       "    </tr>\n",
       "    <tr>\n",
       "      <th>[N, E, Y, E, E]</th>\n",
       "      <td>1</td>\n",
       "    </tr>\n",
       "    <tr>\n",
       "      <th>[D, C, O, F, D]</th>\n",
       "      <td>1</td>\n",
       "    </tr>\n",
       "  </tbody>\n",
       "</table>\n",
       "</div>"
      ],
      "text/plain": [
       "                 count\n",
       "unique_combos         \n",
       "[E, I, S, P, E]      2\n",
       "[O, Y, L, N, E]      1\n",
       "[A, U, I, H, E]      1\n",
       "[E, C, N, W, R]      1\n",
       "[H, T, F, R, S]      1\n",
       "[L, O, I, E, A]      1\n",
       "[B, T, L, C, C]      1\n",
       "[D, T, F, I, I]      1\n",
       "[T, W, H, O, O]      1\n",
       "[I, G, S, O, T]      1\n",
       "[A, M, N, R, A]      1\n",
       "[I, N, R, E, I]      1\n",
       "[P, T, I, H, L]      1\n",
       "[V, C, T, I, U]      1\n",
       "[I, C, O, H, S]      1\n",
       "[O, I, I, E, R]      1\n",
       "[A, R, I, E, I]      1\n",
       "[T, E, A, L, I]      1\n",
       "[A, C, A, E, C]      1\n",
       "[I, P, W, C, T]      1\n",
       "[C, L, E, I, K]      1\n",
       "[H, O, A, B, O]      1\n",
       "[O, B, A, A, T]      1\n",
       "[T, R, C, Y, L]      1\n",
       "[W, E, U, M, S]      1\n",
       "[C, T, N, D, N]      1\n",
       "[R, D, Z, C, S]      1\n",
       "[H, S, R, U, A]      1\n",
       "[G, L, T, A, L]      1\n",
       "[H, O, L, R, R]      1\n",
       "[I, I, A, D, R]      1\n",
       "[E, S, E, A, I]      1\n",
       "[B, A, M, T, Y]      1\n",
       "[T, L, T, A, A]      1\n",
       "[A, F, A, F, I]      1\n",
       "[C, N, T, G, V]      1\n",
       "[N, D, O, N, R]      1\n",
       "[R, H, O, W, T]      1\n",
       "[O, A, I, G, C]      1\n",
       "[N, T, H, N, O]      1\n",
       "[M, D, R, N, C]      1\n",
       "[D, B, E, U, E]      1\n",
       "[T, E, C, I, M]      1\n",
       "[E, R, E, P, N]      1\n",
       "[R, I, R, S, W]      1\n",
       "[E, D, R, P, G]      1\n",
       "[H, L, R, M, H]      1\n",
       "[O, I, E, N, C]      1\n",
       "[N, E, Y, E, E]      1\n",
       "[D, C, O, F, D]      1"
      ]
     },
     "execution_count": 134,
     "metadata": {},
     "output_type": "execute_result"
    }
   ],
   "source": [
    "alpha_analyzer.combos.head(50)"
   ]
  },
  {
   "cell_type": "markdown",
   "id": "9d51b569",
   "metadata": {},
   "source": [
    "**Based on a relative eye count, what is the relative frequency of these words versus the rest?**"
   ]
  },
  {
   "cell_type": "markdown",
   "id": "64c8cf71",
   "metadata": {},
   "source": [
    "After running a couple iterations of this game and glancing through the first 50 each time, at most only 2 or 3 out of each first 50 combos vaguely resemble English words. Often, none of the first 50 even vaguely look like English words."
   ]
  },
  {
   "cell_type": "markdown",
   "id": "6ced706c-19e7-4e79-b171-bfb076f822b4",
   "metadata": {},
   "source": [
    "# Directory Listing\n",
    "\n",
    "A code block that executes the following bash command: \n",
    "\n",
    "```bash\n",
    "!ls -lRF -o\n",
    "```"
   ]
  },
  {
   "cell_type": "code",
   "execution_count": 1,
   "id": "5dbd35c2-e479-4179-b792-997d4293ba96",
   "metadata": {},
   "outputs": [
    {
     "name": "stdout",
     "output_type": "stream",
     "text": [
      "total 56\r\n",
      "-rw-r--r--@ 1 genzfammacmini  27610 Apr 28 08:25 Final_Project_Report.ipynb\r\n",
      "drwxr-xr-x  3 genzfammacmini     96 Apr 27 21:25 \u001b[34m__pycache__\u001b[m\u001b[m/\r\n",
      "drwxr-xr-x@ 6 genzfammacmini    192 Apr 27 22:13 \u001b[34mmontecarlo_package\u001b[m\u001b[m/\r\n",
      "\r\n",
      "./__pycache__:\r\n",
      "total 24\r\n",
      "-rw-r--r--  1 genzfammacmini  10473 Apr 27 21:25 montecarlo.cpython-39.pyc\r\n",
      "\r\n",
      "./montecarlo_package:\r\n",
      "total 8\r\n",
      "drwxr-xr-x  9 genzfammacmini  288 Apr 27 23:09 \u001b[34mmontecarlo_simulator\u001b[m\u001b[m/\r\n",
      "-rw-r--r--  1 genzfammacmini  394 Apr 27 22:13 setup.py\r\n",
      "\r\n",
      "./montecarlo_package/montecarlo_simulator:\r\n",
      "total 80\r\n",
      "-rw-r--r--  1 genzfammacmini     21 Apr 27 21:42 __init__.py\r\n",
      "drwxr-xr-x  3 genzfammacmini     96 Apr 27 22:59 \u001b[34m__pycache__\u001b[m\u001b[m/\r\n",
      "-rw-r--r--  1 genzfammacmini   9969 Apr 27 21:25 montecarlo.py\r\n",
      "-rw-r--r--  1 genzfammacmini   1399 Apr 27 23:06 montecarlo_test_results.txt\r\n",
      "-rw-r--r--  1 genzfammacmini  11146 Apr 27 23:09 montecarlo_testbed.ipynb\r\n",
      "-rw-r--r--  1 genzfammacmini   6892 Apr 27 21:29 montecarlo_tests.py\r\n",
      "\r\n",
      "./montecarlo_package/montecarlo_simulator/__pycache__:\r\n",
      "total 24\r\n",
      "-rw-r--r--  1 genzfammacmini  10513 Apr 27 22:59 montecarlo.cpython-39.pyc\r\n"
     ]
    }
   ],
   "source": [
    "!ls -lRF -o"
   ]
  },
  {
   "cell_type": "markdown",
   "id": "c4df835c-3cd7-4c74-a4de-51638607680b",
   "metadata": {
    "tags": []
   },
   "source": [
    "# Installation Output Listing\n",
    "    \n",
    "A code block that executes the code to install your your package and outputs a successful installation."
   ]
  },
  {
   "cell_type": "code",
   "execution_count": 3,
   "id": "3609769a-c338-4746-8607-d124caf76ed8",
   "metadata": {},
   "outputs": [
    {
     "name": "stdout",
     "output_type": "stream",
     "text": [
      "Obtaining file:///Users/genzfammacmini/Documents/GitHub/Monte_Carlo_Simulator/montecarlo_package\n",
      "  Preparing metadata (setup.py) ... \u001b[?25ldone\n",
      "\u001b[?25hRequirement already satisfied: pandas in /Users/genzfammacmini/opt/anaconda3/lib/python3.9/site-packages (from booklover==0.1) (1.4.4)\n",
      "Requirement already satisfied: numpy in /Users/genzfammacmini/opt/anaconda3/lib/python3.9/site-packages (from booklover==0.1) (1.21.5)\n",
      "Requirement already satisfied: python-dateutil>=2.8.1 in /Users/genzfammacmini/opt/anaconda3/lib/python3.9/site-packages (from pandas->booklover==0.1) (2.8.2)\n",
      "Requirement already satisfied: pytz>=2020.1 in /Users/genzfammacmini/opt/anaconda3/lib/python3.9/site-packages (from pandas->booklover==0.1) (2022.1)\n",
      "Requirement already satisfied: six>=1.5 in /Users/genzfammacmini/opt/anaconda3/lib/python3.9/site-packages (from python-dateutil>=2.8.1->pandas->booklover==0.1) (1.16.0)\n",
      "Installing collected packages: booklover\n",
      "  Attempting uninstall: booklover\n",
      "    Found existing installation: booklover 0.1\n",
      "    Uninstalling booklover-0.1:\n",
      "      Successfully uninstalled booklover-0.1\n",
      "  Running setup.py develop for booklover\n",
      "Successfully installed booklover-0.1\n",
      "Note: you may need to restart the kernel to use updated packages.\n"
     ]
    }
   ],
   "source": [
    "pip install -e ."
   ]
  }
 ],
 "metadata": {
  "kernelspec": {
   "display_name": "Python 3 (ipykernel)",
   "language": "python",
   "name": "python3"
  },
  "language_info": {
   "codemirror_mode": {
    "name": "ipython",
    "version": 3
   },
   "file_extension": ".py",
   "mimetype": "text/x-python",
   "name": "python",
   "nbconvert_exporter": "python",
   "pygments_lexer": "ipython3",
   "version": "3.9.13"
  },
  "widgets": {
   "application/vnd.jupyter.widget-state+json": {
    "state": {},
    "version_major": 2,
    "version_minor": 0
   }
  }
 },
 "nbformat": 4,
 "nbformat_minor": 5
}
